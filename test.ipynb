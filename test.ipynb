{
  "nbformat": 4,
  "nbformat_minor": 0,
  "metadata": {
    "colab": {
      "name": "test.ipynb",
      "provenance": [],
      "authorship_tag": "ABX9TyOOvPMKFTJT3L000c7REQgf",
      "include_colab_link": true
    },
    "kernelspec": {
      "name": "python3",
      "display_name": "Python 3"
    },
    "language_info": {
      "name": "python"
    }
  },
  "cells": [
    {
      "cell_type": "markdown",
      "metadata": {
        "id": "view-in-github",
        "colab_type": "text"
      },
      "source": [
        "<a href=\"https://colab.research.google.com/github/DaheeJang/class2021fall/blob/main/test.ipynb\" target=\"_parent\"><img src=\"https://colab.research.google.com/assets/colab-badge.svg\" alt=\"Open In Colab\"/></a>"
      ]
    },
    {
      "cell_type": "markdown",
      "metadata": {
        "id": "ZXmKunh38XCk"
      },
      "source": [
        "제일 ***처음*** 해 보는 코딩입니다."
      ]
    },
    {
      "cell_type": "code",
      "metadata": {
        "colab": {
          "base_uri": "https://localhost:8080/"
        },
        "id": "w8tzjrmd8VQV",
        "outputId": "f46b826f-78df-4e0c-ce30-f2fd0ec5774e"
      },
      "source": [
        "a=1\n",
        "c=1.1\n",
        "b = 'hello'\n",
        "d = [1, 'abc', 2.1]\n",
        "print(a)\n",
        "print(b)\n",
        "type(a)\n",
        "#여기는 실행이 되지 않음\n",
        "print(type(a))\n",
        "print(type(b))\n",
        "print(type(c))\n",
        "print(type(d))"
      ],
      "execution_count": 13,
      "outputs": [
        {
          "output_type": "stream",
          "name": "stdout",
          "text": [
            "1\n",
            "hello\n",
            "<class 'int'>\n",
            "<class 'str'>\n",
            "<class 'float'>\n",
            "<class 'list'>\n"
          ]
        }
      ]
    }
  ]
}